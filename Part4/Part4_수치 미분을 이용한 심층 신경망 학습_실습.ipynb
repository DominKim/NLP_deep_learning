{
 "cells": [
  {
   "cell_type": "markdown",
   "metadata": {},
   "source": [
    "## 수치 미분을 이용한 심층 신경망 학습"
   ]
  },
  {
   "cell_type": "code",
   "execution_count": 6,
   "metadata": {},
   "outputs": [],
   "source": [
    "import time\n",
    "import numpy as np"
   ]
  },
  {
   "cell_type": "markdown",
   "metadata": {},
   "source": [
    "## 유틸리티 함수"
   ]
  },
  {
   "cell_type": "code",
   "execution_count": 1,
   "metadata": {},
   "outputs": [],
   "source": [
    "epsilon = 0.0001\n",
    "\n",
    "def _t(x):\n",
    "    return np.transpose(x)\n",
    "\n",
    "def _m(A, B):\n",
    "    return np.matmul(A, B)\n",
    "\n",
    "def sigmoid(x):\n",
    "    return 1 / (1 + np.exp(-x))\n",
    "\n",
    "def mean_squared_error(h, y):\n",
    "    return 1 / 2 * np.mean(np.square(h - y))"
   ]
  },
  {
   "cell_type": "markdown",
   "metadata": {},
   "source": [
    "## 뉴런 구현"
   ]
  },
  {
   "cell_type": "code",
   "execution_count": 8,
   "metadata": {},
   "outputs": [],
   "source": [
    "class Neuron:\n",
    "    def __init__(self, W, b, a):\n",
    "        # Model Parameter\n",
    "        self.W = W\n",
    "        self.b = b\n",
    "        self.a = a\n",
    "        \n",
    "        # Gradients\n",
    "        self.dW = np.zeros_like(self.W)\n",
    "        self.db = np.zeros_like(self.b)\n",
    "        \n",
    "\n",
    "    def __call__(self, x):\n",
    "        return self.a(_m(_t(self.W), x) + self.b) # activation((W^T)x + b)"
   ]
  },
  {
   "cell_type": "markdown",
   "metadata": {},
   "source": [
    "## 심층신경망 구현"
   ]
  },
  {
   "cell_type": "code",
   "execution_count": 24,
   "metadata": {},
   "outputs": [],
   "source": [
    "class DNN:\n",
    "    def __init__(self, hidden_depth, num_neuron, num_input, num_output, activation=sigmoid):\n",
    "        def init_var(i, o):\n",
    "            return np.random.normal(0.0, 0.01, (i, o)), np.zeros((o,))\n",
    "\n",
    "        self.sequence = list()\n",
    "        # First hidden layer\n",
    "        W, b = init_var(num_input, num_neuron)\n",
    "        self.sequence.append(Neuron(W, b, activation))\n",
    "        \n",
    "        # Hidden layers\n",
    "        for _ in range(hidden_depth - 1):\n",
    "            W, b = init_var(num_neuron, num_neuron)\n",
    "            self.sequence.append(Neuron(W, b, activation))\n",
    "\n",
    "        # Output layer\n",
    "        W, b = init_var(num_neuron, num_output)\n",
    "        self.sequence.append(Neuron(W, b, activation))\n",
    "\n",
    "    def __call__(self, x):\n",
    "        for layer in self.sequence:\n",
    "            x = layer(x)\n",
    "        return x\n",
    "\n",
    "    def calc_gradient(self, x, y, loss_func):\n",
    "        def get_new_sequence(layer_index, new_neuron):\n",
    "            new_sequence = list()\n",
    "            for i, layer in enumerate(self.sequence):\n",
    "                if i == layer_index:\n",
    "                    new_sequence.append(new_neuron)\n",
    "                else:\n",
    "                    new_sequence.append(layer)\n",
    "            return new_sequence\n",
    "        \n",
    "        def eval_sequence(x, sequence):\n",
    "            for layer in sequence:\n",
    "                x = layer(x)\n",
    "            return x\n",
    "        \n",
    "        loss = loss_func(self(x), y)\n",
    "        \n",
    "        for layer_id, layer in enumerate(self.sequence): # iterate layer\n",
    "            for w_i, w in enumerate(layer.W): # iterate W (row)\n",
    "                for w_j, ww in enumerate(w): # iterate W (col)\n",
    "                    W = np.copy(layer.W)\n",
    "                    W[w_i][w_j] = ww + epsilon\n",
    "                    \n",
    "                    new_neuron = Neuron(W, layer.b, layer.a)\n",
    "                    new_seq = get_new_sequence(layer_id, new_neuron)\n",
    "                    h = eval_sequence(x, new_seq)\n",
    "                    \n",
    "                    num_grad = (loss_func(h, y) - loss) / epsilon  # (f(x+eps) - f(x)) / epsilon\n",
    "                    layer.dW[w_i][w_j] = num_grad\n",
    "            \n",
    "                for b_i, bb in enumerate(layer.b): # iterate b\n",
    "                    b = np.copy(layer.b)\n",
    "                    b[b_i] = bb + epsilon\n",
    "                    \n",
    "                    new_neuron = Neuron(layer.W, b, layer.a)\n",
    "                    new_seq = get_new_sequence(layer_id, new_neuron)\n",
    "                    h = eval_sequence(x, new_seq)\n",
    "                    \n",
    "                    num_grad = (loss_func(h, y) - loss) / epsilon  # (f(x+eps) - f(x)) / epsilon\n",
    "                    layer.db[b_i] = num_grad\n",
    "        return loss"
   ]
  },
  {
   "cell_type": "markdown",
   "metadata": {},
   "source": [
    "## 경사하강 학습법"
   ]
  },
  {
   "cell_type": "code",
   "execution_count": 25,
   "metadata": {},
   "outputs": [],
   "source": [
    "def gradient_descent(network, x, y, loss_obj, alpha=0.01):\n",
    "    loss = network.calc_gradient(x, y, loss_obj)\n",
    "    for layer in network.sequence:\n",
    "        layer.W += -alpha * layer.dW\n",
    "        layer.b += -alpha * layer.db\n",
    "    return loss"
   ]
  },
  {
   "cell_type": "markdown",
   "metadata": {},
   "source": [
    "## 동작 테스트"
   ]
  },
  {
   "cell_type": "code",
   "execution_count": 26,
   "metadata": {},
   "outputs": [
    {
     "name": "stdout",
     "output_type": "stream",
     "text": [
      "Epoch 0: Test loss 0.31007002496377484\n",
      "Epoch 1: Test loss 0.3083246195004432\n",
      "Epoch 2: Test loss 0.3065899090453332\n",
      "Epoch 3: Test loss 0.30486607685518935\n",
      "Epoch 4: Test loss 0.3031532979563371\n",
      "Epoch 5: Test loss 0.30145173914460965\n",
      "Epoch 6: Test loss 0.2997615589981307\n",
      "Epoch 7: Test loss 0.298082907902484\n",
      "Epoch 8: Test loss 0.29641592808791445\n",
      "Epoch 9: Test loss 0.2947607536779613\n",
      "Epoch 10: Test loss 0.29311751074932635\n",
      "Epoch 11: Test loss 0.2914863174020327\n",
      "Epoch 12: Test loss 0.2898672838399171\n",
      "Epoch 13: Test loss 0.28826051246029705\n",
      "Epoch 14: Test loss 0.28666609795286413\n",
      "Epoch 15: Test loss 0.28508412740698486\n",
      "Epoch 16: Test loss 0.2835146804267909\n",
      "Epoch 17: Test loss 0.28195782925376245\n",
      "Epoch 18: Test loss 0.2804136388960718\n",
      "Epoch 19: Test loss 0.278882167264176\n",
      "Epoch 20: Test loss 0.2773634653122642\n",
      "Epoch 21: Test loss 0.27585757718485854\n",
      "Epoch 22: Test loss 0.2743645403681395\n",
      "Epoch 23: Test loss 0.2728843858455005\n",
      "Epoch 24: Test loss 0.27141713825682107\n",
      "Epoch 25: Test loss 0.2699628160608755\n",
      "Epoch 26: Test loss 0.26852143170069065\n",
      "Epoch 27: Test loss 0.26709299177099866\n",
      "Epoch 28: Test loss 0.2656774971877603\n",
      "Epoch 29: Test loss 0.26427494335897467\n",
      "Epoch 30: Test loss 0.26288532035666146\n",
      "Epoch 31: Test loss 0.2615086130894277\n",
      "Epoch 32: Test loss 0.2601448014753388\n",
      "Epoch 33: Test loss 0.2587938606148577\n",
      "Epoch 34: Test loss 0.2574557609630907\n",
      "Epoch 35: Test loss 0.256130468501747\n",
      "Epoch 36: Test loss 0.25481794490968745\n",
      "Epoch 37: Test loss 0.2535181477325403\n",
      "Epoch 38: Test loss 0.2522310305505971\n",
      "Epoch 39: Test loss 0.25095654314498334\n",
      "Epoch 40: Test loss 0.24969463166184966\n",
      "Epoch 41: Test loss 0.24844523877435098\n",
      "Epoch 42: Test loss 0.24720830384224443\n",
      "Epoch 43: Test loss 0.24598376306893208\n",
      "Epoch 44: Test loss 0.24477154965577058\n",
      "Epoch 45: Test loss 0.24357159395359537\n",
      "Epoch 46: Test loss 0.24238382361115662\n",
      "Epoch 47: Test loss 0.24120816372054615\n",
      "Epoch 48: Test loss 0.2400445369594076\n",
      "Epoch 49: Test loss 0.2388928637299145\n",
      "Epoch 50: Test loss 0.2377530622943315\n",
      "Epoch 51: Test loss 0.23662504890726316\n",
      "Epoch 52: Test loss 0.23550873794434804\n",
      "Epoch 53: Test loss 0.23440404202757084\n",
      "Epoch 54: Test loss 0.23331087214699553\n",
      "Epoch 55: Test loss 0.23222913777902449\n",
      "Epoch 56: Test loss 0.2311587470010072\n",
      "Epoch 57: Test loss 0.23009960660245896\n",
      "Epoch 58: Test loss 0.22905162219263772\n",
      "Epoch 59: Test loss 0.22801469830462873\n",
      "Epoch 60: Test loss 0.22698873849598142\n",
      "Epoch 61: Test loss 0.22597364544580353\n",
      "Epoch 62: Test loss 0.2249693210484891\n",
      "Epoch 63: Test loss 0.22397566650402492\n",
      "Epoch 64: Test loss 0.22299258240490855\n",
      "Epoch 65: Test loss 0.22201996881985847\n",
      "Epoch 66: Test loss 0.22105772537413737\n",
      "Epoch 67: Test loss 0.22010575132686538\n",
      "Epoch 68: Test loss 0.219163945645008\n",
      "Epoch 69: Test loss 0.2182322070743696\n",
      "Epoch 70: Test loss 0.2173104342076001\n",
      "Epoch 71: Test loss 0.21639852554923955\n",
      "Epoch 72: Test loss 0.21549637957780912\n",
      "Epoch 73: Test loss 0.21460389480522374\n",
      "Epoch 74: Test loss 0.21372096983335115\n",
      "Epoch 75: Test loss 0.2128475034078988\n",
      "Epoch 76: Test loss 0.21198339446982778\n",
      "Epoch 77: Test loss 0.21112854220407876\n",
      "Epoch 78: Test loss 0.210282846085924\n",
      "Epoch 79: Test loss 0.20944620592491955\n",
      "Epoch 80: Test loss 0.20861852190655503\n",
      "Epoch 81: Test loss 0.20779969463166953\n",
      "Epoch 82: Test loss 0.20698962515361266\n",
      "Epoch 83: Test loss 0.20618821501343162\n",
      "Epoch 84: Test loss 0.20539536627294389\n",
      "Epoch 85: Test loss 0.20461098154586144\n",
      "Epoch 86: Test loss 0.20383496402703694\n",
      "Epoch 87: Test loss 0.20306721751985865\n",
      "Epoch 88: Test loss 0.20230764646193997\n",
      "Epoch 89: Test loss 0.20155615594898685\n",
      "Epoch 90: Test loss 0.2008126517572\n",
      "Epoch 91: Test loss 0.2000770403639862\n",
      "Epoch 92: Test loss 0.19934922896717558\n",
      "Epoch 93: Test loss 0.19862912550283718\n",
      "Epoch 94: Test loss 0.19791663866162645\n",
      "Epoch 95: Test loss 0.19721167790389746\n",
      "Epoch 96: Test loss 0.1965141534734264\n",
      "Epoch 97: Test loss 0.1958239764099581\n",
      "Epoch 98: Test loss 0.1951410585606111\n",
      "Epoch 99: Test loss 0.19446531259010164\n",
      "98.41446781158447 seconds elapsed.\n"
     ]
    }
   ],
   "source": [
    "x = np.random.normal(0.0, 1.0, (10,))\n",
    "y = np.random.normal(0.0, 1.0, (2,))\n",
    "\n",
    "dnn = DNN(hidden_depth=5, num_neuron=32, num_input=10, num_output=2, activation=sigmoid)\n",
    "\n",
    "t = time.time()\n",
    "for epoch in range(100):\n",
    "    loss = gradient_descent(dnn, x, y, mean_squared_error, 0.01)\n",
    "    print('Epoch {}: Test loss {}'.format(epoch, loss))\n",
    "print('{} seconds elapsed.'.format(time.time() - t))"
   ]
  },
  {
   "cell_type": "code",
   "execution_count": null,
   "metadata": {},
   "outputs": [],
   "source": []
  }
 ],
 "metadata": {
  "kernelspec": {
   "display_name": "Python 3",
   "language": "python",
   "name": "python3"
  },
  "language_info": {
   "codemirror_mode": {
    "name": "ipython",
    "version": 3
   },
   "file_extension": ".py",
   "mimetype": "text/x-python",
   "name": "python",
   "nbconvert_exporter": "python",
   "pygments_lexer": "ipython3",
   "version": "3.8.3"
  }
 },
 "nbformat": 4,
 "nbformat_minor": 2
}
